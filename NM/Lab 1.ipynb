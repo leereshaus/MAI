{
 "cells": [
  {
   "cell_type": "markdown",
   "id": "f0f3ce2d",
   "metadata": {},
   "source": [
    "# Лабораторная работа 1\n",
    "## Системы линейных алгебраических уравнений"
   ]
  },
  {
   "cell_type": "markdown",
   "id": "9cd2de20",
   "metadata": {},
   "source": [
    "### 1. Реализовать алгоритм LU - разложения матриц (с выбором главного элемента) в виде программы. Используя разработанное программное обеспечение, решить систему линейных алгебраических уравнений (СЛАУ). Для матрицы СЛАУ вычислить определитель и обратную матрицу."
   ]
  },
  {
   "cell_type": "code",
   "execution_count": 4,
   "id": "4625f32b",
   "metadata": {},
   "outputs": [],
   "source": [
    "import numpy as np\n",
    "from math import log10, atan, pi, sin, cos, sqrt"
   ]
  },
  {
   "cell_type": "code",
   "execution_count": 5,
   "id": "60824e9e",
   "metadata": {},
   "outputs": [],
   "source": [
    "def get_script(s, script='sup'):\n",
    "    if script == 'sup':\n",
    "        return s.translate(s.maketrans('0123456789', '⁰¹²³⁴⁵⁶⁷⁸⁹'))\n",
    "    if script == 'sub':\n",
    "        return s.translate(s.maketrans('0123456789', '₀₁₂₃₄₅₆₇₈₉'))\n",
    "    return s"
   ]
  },
  {
   "cell_type": "code",
   "execution_count": 6,
   "id": "56d77e82",
   "metadata": {},
   "outputs": [],
   "source": [
    "def polynom2str(a, x = 'x', script='sup'):\n",
    "    s = ''\n",
    "    frm = 0\n",
    "    while a[frm]==0: frm += 1\n",
    "    first_done = False\n",
    "    for i in range(frm, len(a)):\n",
    "        if a[i] == 0: continue\n",
    "        deg = len(a) - i - 1\n",
    "        if first_done:\n",
    "            s += ('+ ' if a[i] > 0 else '- ')\n",
    "        elif a[i] < 0:\n",
    "            s += '-'\n",
    "        first_done = True\n",
    "        if abs(a[i]) != 1 or deg == 0:\n",
    "            s += '%g'%abs(a[i])\n",
    "        if script == 'sup':\n",
    "            if deg > 0:\n",
    "                s += x\n",
    "                if deg != 1:\n",
    "                    s += get_script(str(deg), script)\n",
    "                s += ' '\n",
    "        else:\n",
    "            s += x + get_script(str(i+1), script) + ' '\n",
    "    return s if s!='' else '0'"
   ]
  },
  {
   "cell_type": "code",
   "execution_count": 7,
   "id": "137cdb2c",
   "metadata": {},
   "outputs": [],
   "source": [
    "def print_system(a, b):\n",
    "    for i in range(len(a)):\n",
    "        print('{', polynom2str(a[i], script='sub'), '=', b[i])"
   ]
  },
  {
   "cell_type": "code",
   "execution_count": 8,
   "id": "425954c5",
   "metadata": {},
   "outputs": [],
   "source": [
    "def print_x_solution(x, sym = 'x'):\n",
    "    for i in range(1, len(x)+1):\n",
    "        print(f'{sym}{get_script(str(i), \"sub\")} = %g;' % round(x[i-1], 3), end='  ')\n",
    "    print()"
   ]
  },
  {
   "cell_type": "code",
   "execution_count": 9,
   "id": "650b9ac8",
   "metadata": {},
   "outputs": [],
   "source": [
    "def print_vec_solution(x, sym = 'x'):\n",
    "    for i in range(1, len(x)+1):\n",
    "        print(f'{sym}{get_script(str(i), \"sub\")} = {x[i-1]};')\n",
    "    print()"
   ]
  },
  {
   "cell_type": "code",
   "execution_count": 10,
   "id": "7209b6c6",
   "metadata": {},
   "outputs": [],
   "source": [
    "def print_comp_solution(x, sym = 'x'):\n",
    "    for i in range(1, len(x)+1):\n",
    "        s = str(round(x[i-1][0], 4))\n",
    "        if x[i-1][1] != 0:\n",
    "            if x[i-1][1] < 0: s += ' - ' \n",
    "            else: s += ' + '\n",
    "            s += str(round(abs(x[i-1][1]), 4)) + ' i'\n",
    "        print(f'{sym}{get_script(str(i), \"sub\")} = {s};')\n",
    "    print()"
   ]
  },
  {
   "cell_type": "code",
   "execution_count": 11,
   "id": "c03b3914",
   "metadata": {},
   "outputs": [],
   "source": [
    "class LU:\n",
    "    EPS = 1e-6\n",
    "\n",
    "    def __init__(self, U):\n",
    "        L = np.eye(len(U), dtype=float)\n",
    "        isDetNeg = False\n",
    "        permut = np.array(range(len(U)))\n",
    "        for i in range(len(U)):\n",
    "            max_idx = i\n",
    "            for j in range(i + 1, len(U)):\n",
    "                if abs(U[max_idx][i]) < abs(U[j][i]):\n",
    "                    max_idx = j\n",
    "            if max_idx != i:\n",
    "                U[[i, max_idx]] = U[[max_idx, i]]\n",
    "                L[[i, max_idx]] = L[[max_idx, i]]\n",
    "                L[:, [i, max_idx]] = L[:, [max_idx, i]]\n",
    "                isDetNeg = not isDetNeg\n",
    "                permut[[i, max_idx]] = permut[[max_idx, i]]\n",
    "            if abs(U[i][i]) < self.EPS: continue\n",
    "            for j in range(i + 1, len(U)):\n",
    "                mu = U[j][i] / U[i][i]\n",
    "                L[j][i] = mu\n",
    "                for k in range(len(U)):\n",
    "                    U[j][k] -= mu * U[i][k]\n",
    "        det = U.diagonal().prod()\n",
    "        if isDetNeg: det = -det\n",
    "        self._permut = permut\n",
    "        self.L = L\n",
    "        self.U = U\n",
    "        self.det = det\n",
    "\n",
    "    def solve(self, b):\n",
    "        b = np.array([ b[pi] for pi in self._permut ], dtype=float)\n",
    "        z = np.array([0] * len(b), dtype=float)\n",
    "        for i in range(len(b)):\n",
    "            z[i] = b[i]\n",
    "            for j in range(i):\n",
    "                z[i] -= self.L[i, j] * z[j]\n",
    "        x = np.array([0] * len(b), dtype=float)\n",
    "        for i in range(len(b)-1, -1, -1):\n",
    "            if abs(self.U[i, i]) < self.EPS: continue\n",
    "            x[i] = z[i]\n",
    "            for j in range(len(b)-1, i, -1):\n",
    "                x[i] -= x[j] * self.U[i, j]\n",
    "            x[i] /= self.U[i, i]\n",
    "        return x\n",
    "    \n",
    "    def inverse(self):\n",
    "        n = len(self.L)\n",
    "        ret = np.matrix([[0] * n] * n, dtype=float)\n",
    "        for i in range(n):\n",
    "            b = np.array([0] * n, dtype=float)\n",
    "            b[i] = 1\n",
    "            ret[:, i] = np.matrix(self.solve(b)).T\n",
    "        return ret"
   ]
  },
  {
   "cell_type": "code",
   "execution_count": 12,
   "id": "e519e666",
   "metadata": {},
   "outputs": [
    {
     "name": "stdout",
     "output_type": "stream",
     "text": [
      "{ -x₁ - 7x₂ - 3x₃ - 2x₄  = -12.0\n",
      "{ -8x₁ + x₂ - 9x₃  = -60.0\n",
      "{ 8x₁ + 2x₂ - 5x₃ - 3x₄  = -91.0\n",
      "{ -5x₁ + 3x₂ + 5x₃ - 9x₄  = -43.0\n"
     ]
    }
   ],
   "source": [
    "A = np.array([[-1, -7, -3, -2],\n",
    "              [-8, 1, -9, 0],\n",
    "              [ 8,  2, -5, -3],\n",
    "              [-5, 3,  5, -9]], dtype=float)\n",
    "b = np.array([-12, -60, -91, -43], dtype=float)\n",
    "print_system(A, b)"
   ]
  },
  {
   "cell_type": "code",
   "execution_count": 13,
   "id": "2c7bb587",
   "metadata": {},
   "outputs": [
    {
     "name": "stdout",
     "output_type": "stream",
     "text": [
      "Решение системы: x₁ = -2;  x₂ = -4;  x₃ = 8;  x₄ = 9;  \n",
      "Определитель матрицы: -10339.0\n",
      "Обратная матрица:\n",
      " [[ 0.00203114 -0.04807041  0.06364252 -0.02166554]\n",
      " [-0.12215882  0.03394912  0.02949995  0.01731309]\n",
      " [-0.01537866 -0.06460973 -0.05329336  0.02118193]\n",
      " [-0.05039172  0.00212787 -0.05513106 -0.08153593]]\n"
     ]
    }
   ],
   "source": [
    "lu = LU(A)\n",
    "print('Решение системы: ', end='')\n",
    "print_x_solution(lu.solve(b))\n",
    "print('Определитель матрицы:', round(lu.det, 3))\n",
    "print('Обратная матрица:\\n', lu.inverse())"
   ]
  },
  {
   "cell_type": "code",
   "execution_count": 14,
   "id": "a455c6d1",
   "metadata": {},
   "outputs": [
    {
     "data": {
      "text/plain": [
       "matrix([[-8.,  1., -9.,  0.],\n",
       "        [-1., -7., -3., -2.],\n",
       "        [ 8.,  2., -5., -3.],\n",
       "        [-5.,  3.,  5., -9.]])"
      ]
     },
     "execution_count": 14,
     "metadata": {},
     "output_type": "execute_result"
    }
   ],
   "source": [
    "l = np.matrix(lu.L)\n",
    "u = np.matrix(lu.U)\n",
    "l * u"
   ]
  },
  {
   "cell_type": "markdown",
   "id": "251028e5",
   "metadata": {},
   "source": [
    "### 2. Реализовать метод прогонки в виде программы, задавая в качестве входных данных ненулевые элементы матрицы системы и вектор правых частей. Используя разработанное программное обеспечение, решить СЛАУ с трехдиагональной матрицей."
   ]
  },
  {
   "cell_type": "code",
   "execution_count": 15,
   "id": "92342521",
   "metadata": {},
   "outputs": [
    {
     "name": "stdout",
     "output_type": "stream",
     "text": [
      "Введите элементы нижней, главной, верхней диагоналей и вектор решений:\n",
      "0 -5 -5 -9 1\n",
      "8 22 -11 -15 7\n",
      "4 8 1 1 0\n",
      "48 125 -43 18 -23\n",
      "\n",
      "Ответ:\n",
      "[3.0, 6.0, 0.9999999999999998, -2.0, -3.0]\n"
     ]
    }
   ],
   "source": [
    "import math\n",
    "\n",
    "print(\"Введите элементы нижней, главной, верхней диагоналей и вектор решений:\")\n",
    "a = list(map(int, input().split()))\n",
    "b = list(map(int, input().split()))\n",
    "c = list(map(int, input().split()))\n",
    "d = list(map(int, input().split()))\n",
    "\n",
    "p = [-c[0] / b[0]]\n",
    "q = [d[0] / b[0]]\n",
    "n = len(d)\n",
    "\n",
    "x = [0]*n\n",
    "\n",
    "\n",
    "for i in range(1, n):\n",
    "    p.append(-c[i]/(b[i] + a[i]*p[i-1]))\n",
    "    q.append((d[i] - a[i]*q[i-1])/(b[i] + a[i]*p[i-1]))\n",
    "\n",
    "x[n-1] = q[n-1]\n",
    "\n",
    "for i in range(n-1, -1, -1):\n",
    "    x[i-1] = p[i-1]*x[i] + q[i-1]\n",
    "\n",
    "print(\"\\nОтвет:\")\n",
    "print (x)"
   ]
  },
  {
   "cell_type": "markdown",
   "id": "14c6d508",
   "metadata": {},
   "source": [
    "### 3. Реализовать метод простых итераций и метод Зейделя в виде программ, задавая в качестве входных данных матрицу системы, вектор правых частей и точность вычислений. Используя разработанное программное обеспечение, решить СЛАУ. Проанализировать количество итераций, необходимое для достижения заданной точности."
   ]
  },
  {
   "cell_type": "code",
   "execution_count": 16,
   "id": "d82156db",
   "metadata": {},
   "outputs": [
    {
     "name": "stdout",
     "output_type": "stream",
     "text": [
      "Enter the size of matrix: 4\n",
      "Enter matrix A\n",
      "26 -9 -8 8\n",
      "9 -21 -2 8\n",
      "-3 2 -18 8\n",
      "1 -6 -1 11\n",
      "Enter vector b\n",
      "20 -164 140 -81\n",
      "Enter epsilon: 0.001\n",
      "Iteration method\n",
      "[ 1.999822    8.00019653 -8.99996642 -4.0001716 ]\n",
      "Iterations: 30\n",
      "\n",
      "Seidel method\n",
      "[ 1.99970731  7.99978167 -9.00013572 -4.00010482]\n",
      "Iterations: 8\n"
     ]
    }
   ],
   "source": [
    "def L2_norm(X):\n",
    "    \"\"\"\n",
    "    Count ||X||_2\n",
    "    \"\"\"\n",
    "    n = X.shape[0]\n",
    "    l2_norm = 0\n",
    "    for i in range(n):\n",
    "        l2_norm += X[i] * X[i]\n",
    "    return math.sqrt(l2_norm)\n",
    "\n",
    "\n",
    "def solve_iterative(A, b, eps):\n",
    "    \"\"\"\n",
    "    Uses iterative method to solve Ax=b\n",
    "    Returns x and number of iterations\n",
    "    \"\"\"\n",
    "    n = A.shape[0]\n",
    "\n",
    "    # Step 1. Ax=b -> x = alpha * x + beta\n",
    "    alpha = np.zeros_like(A, dtype='float')\n",
    "    beta = np.zeros_like(b, dtype='float')\n",
    "    for i in range(n):\n",
    "        for j in range(n):\n",
    "            if i == j:\n",
    "                alpha[i][j] = 0\n",
    "            else:\n",
    "                alpha[i][j] = -A[i][j] / A[i][i]\n",
    "\n",
    "        beta[i] = b[i] / A[i][i]\n",
    "\n",
    "    # Step 2. Iterating\n",
    "    iterations = 0\n",
    "    cur_x = np.copy(beta)\n",
    "    converge = False\n",
    "    while not converge:\n",
    "        prev_x = np.copy(cur_x)\n",
    "        cur_x = alpha @ prev_x + beta\n",
    "        iterations += 1\n",
    "        converge = L2_norm(prev_x - cur_x) <= eps\n",
    "    return cur_x, iterations\n",
    "\n",
    "\n",
    "def seidel_multiplication(alpha, x, beta):\n",
    "    \"\"\"\n",
    "    Count alhpa * x + beta for seidel method\n",
    "    \"\"\"\n",
    "    res = np.copy(x)\n",
    "    for i in range(alpha.shape[0]):\n",
    "        res[i] = beta[i]\n",
    "        for j in range(alpha.shape[1]):\n",
    "            res[i] += alpha[i][j] * res[j]\n",
    "    return res\n",
    "\n",
    "\n",
    "def solve_seidel(A, b, eps):\n",
    "    \"\"\"\n",
    "    Uses Seidel method to solve Ax=b\n",
    "    Returns x and number of iterations\n",
    "    \"\"\"\n",
    "    n = A.shape[0]\n",
    "\n",
    "    # Step 1. Ax=b -> x = alpha * x + beta\n",
    "    alpha = np.zeros_like(A, dtype='float')\n",
    "    beta = np.zeros_like(b, dtype='float')\n",
    "    for i in range(n):\n",
    "        for j in range(n):\n",
    "            if i == j:\n",
    "                alpha[i][j] = 0\n",
    "            else:\n",
    "                alpha[i][j] = -A[i][j] / A[i][i]\n",
    "\n",
    "        beta[i] = b[i] / A[i][i]\n",
    "\n",
    "    # Step 2. Iterating\n",
    "    iterations = 0\n",
    "    cur_x = np.copy(beta)\n",
    "    converge = False\n",
    "    while not converge:\n",
    "        prev_x = np.copy(cur_x)\n",
    "        cur_x = seidel_multiplication(alpha, prev_x, beta)\n",
    "        iterations += 1\n",
    "        converge = L2_norm(prev_x - cur_x) <= eps\n",
    "    return cur_x, iterations\n",
    "\n",
    "\n",
    "if __name__ == '__main__':\n",
    "    n = int(input('Enter the size of matrix: '))\n",
    "\n",
    "    print('Enter matrix A')\n",
    "    A = [[] for _ in range(n)]\n",
    "    for i in range(n):\n",
    "        row = list(map(int, input().split()))\n",
    "        A[i] = row\n",
    "    A = np.array(A, dtype='float')\n",
    "    print('Enter vector b')\n",
    "    b = np.array(list(map(int, input().split())), dtype='float')\n",
    "    eps = float(input('Enter epsilon: '))\n",
    "\n",
    "    print('Iteration method')\n",
    "    x_iter, i_iter = solve_iterative(A, b, eps)\n",
    "    print(x_iter)\n",
    "    print('Iterations:', i_iter)\n",
    "    print()\n",
    "\n",
    "    print('Seidel method')\n",
    "    x_seidel, i_seidel = solve_seidel(A, b, eps)\n",
    "    print(x_seidel)\n",
    "    print('Iterations:', i_seidel)"
   ]
  },
  {
   "cell_type": "markdown",
   "id": "80980e28",
   "metadata": {},
   "source": [
    "### 1.4. Реализовать метод вращений в виде программы, задавая в качестве входных данных матрицу и точность вычислений. Используя разработанное программное обеспечение, найти собственные значения и собственные векторы симметрических матриц. Проанализировать зависимость погрешности вычислений от числа итераций. "
   ]
  },
  {
   "cell_type": "code",
   "execution_count": 17,
   "id": "659f73b9",
   "metadata": {},
   "outputs": [],
   "source": [
    "def find_max_upper_element(X):\n",
    "    \"\"\"\n",
    "    Find coords of max element by absolute value above the main diagonal\n",
    "    Returns i, j of max element\n",
    "    \"\"\"\n",
    "    n = X.shape[0]\n",
    "    i_max, j_max = 0, 1\n",
    "    max_elem = abs(X[0][1])\n",
    "    for i in range(n):\n",
    "        for j in range(i + 1, n):\n",
    "            if abs(X[i][j]) > max_elem:\n",
    "                max_elem = abs(X[i][j])\n",
    "                i_max = i\n",
    "                j_max = j\n",
    "    return i_max, j_max"
   ]
  },
  {
   "cell_type": "code",
   "execution_count": 18,
   "id": "388506d2",
   "metadata": {},
   "outputs": [],
   "source": [
    "def matrix_norm(X):\n",
    "    \"\"\"\n",
    "    Calculates L2 norm for elements above the main diagonal\n",
    "    \"\"\"\n",
    "    norm = 0\n",
    "    for i in range(n):\n",
    "        for j in range(i + 1, n):\n",
    "            norm += X[i][j] * X[i][j]\n",
    "    return np.sqrt(norm)"
   ]
  },
  {
   "cell_type": "code",
   "execution_count": 19,
   "id": "dc933eaa",
   "metadata": {},
   "outputs": [],
   "source": [
    "def rotation_method(A, eps):\n",
    "    \"\"\"\n",
    "    Find eigen values and eigen vectors using rotation method\n",
    "    Returns eigen values, eigen vectors, number of iterations\n",
    "    \"\"\"\n",
    "    n = A.shape[0]\n",
    "    A_i = np.copy(A)\n",
    "    eigen_vectors = np.eye(n)\n",
    "    iterations = 0\n",
    "\n",
    "    while matrix_norm(A_i) > eps:\n",
    "        i_max, j_max = find_max_upper_element(A_i)\n",
    "        if A_i[i_max][i_max] - A_i[j_max][j_max] == 0:\n",
    "            phi = np.pi / 4\n",
    "        else:\n",
    "            phi = 0.5 * np.arctan(2 * A_i[i_max][j_max] / (A_i[i_max][i_max] - A_i[j_max][j_max]))\n",
    "\n",
    "        # create rotation matrix\n",
    "        U = np.eye(n)\n",
    "        U[i_max][j_max] = -np.sin(phi)\n",
    "        U[j_max][i_max] = np.sin(phi)\n",
    "        U[i_max][i_max] = np.cos(phi)\n",
    "        U[j_max][j_max] = np.cos(phi)\n",
    "\n",
    "        A_i = U.T @ A_i @ U\n",
    "        eigen_vectors = eigen_vectors @ U\n",
    "        iterations += 1\n",
    "\n",
    "    eigen_values = np.array([A_i[i][i] for i in range(n)])\n",
    "    return eigen_values, eigen_vectors, iterations\n"
   ]
  },
  {
   "cell_type": "code",
   "execution_count": 20,
   "id": "7f0715dc",
   "metadata": {},
   "outputs": [
    {
     "name": "stdout",
     "output_type": "stream",
     "text": [
      "Enter the size of matrix: 3\n",
      "Enter matrix A\n",
      "8 2 -1\n",
      "2 -5 -8\n",
      "-1 -8 -5\n",
      "Enter epsilon: 0.001\n",
      "Eigen values: [  8.79894069 -13.02410419   2.2251635 ] \n",
      "\n",
      "Eigen vectors\n",
      "[[ 0.93869992 -0.03407344  0.34304732]\n",
      " [ 0.26434633  0.70987678 -0.65283687]\n",
      " [-0.22127693  0.70350122  0.67536846]] \n",
      "\n",
      "Iterations: 5 \n",
      "\n"
     ]
    }
   ],
   "source": [
    "if __name__ == '__main__':\n",
    "    n = int(input('Enter the size of matrix: '))\n",
    "\n",
    "    print('Enter matrix A')\n",
    "    A = [[] for _ in range(n)]\n",
    "    for i in range(n):\n",
    "        row = list(map(int, input().split()))\n",
    "        A[i] = row\n",
    "    A = np.array(A, dtype='float')\n",
    "    eps = float(input('Enter epsilon: '))\n",
    "\n",
    "    eig_values, eig_vectors, iters = rotation_method(A, eps)\n",
    "    print('Eigen values:', eig_values, \"\\n\")\n",
    "    print('Eigen vectors')\n",
    "    print(eig_vectors, \"\\n\")\n",
    "    print('Iterations:', iters, \"\\n\")"
   ]
  },
  {
   "cell_type": "code",
   "execution_count": 21,
   "id": "321ad004",
   "metadata": {},
   "outputs": [
    {
     "name": "stdout",
     "output_type": "stream",
     "text": [
      "0 Testing1: [ 8.25956894  2.32588361 -1.94708593]\n",
      "0 Testing2: [ 8.2595649   2.32596771 -1.94700259] \n",
      "\n",
      "1 Testing1: [ 0.44366483 -9.2455405  -9.16244686]\n",
      "1 Testing2: [ 0.443776   -9.24550909 -9.16247317] \n",
      "\n",
      "2 Testing1: [ 0.76333638 -1.45266868  1.50280534]\n",
      "2 Testing2: [ 0.76333638 -1.45266878  1.50280525] \n",
      "\n"
     ]
    }
   ],
   "source": [
    "    for i in range(n):\n",
    "        #print(eig_vectors.T)\n",
    "        h = eig_vectors.T\n",
    "        #print(eig_values[i])\n",
    "        print(i, 'Testing1:', A.T.dot(h[i]))\n",
    "        print(i, 'Testing2:', eig_values[i] * h[i], \"\\n\")\n",
    "        i = i + 1"
   ]
  },
  {
   "cell_type": "markdown",
   "id": "18cf491f",
   "metadata": {},
   "source": [
    "### 1.5. Реализовать алгоритм QR – разложения матриц в виде программы. На его основе разработать программу, реализующую QR – алгоритм решения полной проблемы собственных значений произвольных матриц, задавая в качестве входных данных матрицу и точность вычислений. С использованием разработанного программного обеспечения найти собственные значения матрицы."
   ]
  },
  {
   "cell_type": "code",
   "execution_count": 22,
   "id": "a982fe71",
   "metadata": {},
   "outputs": [],
   "source": [
    "def sign(x):\n",
    "    return -1 if x < 0 else 1 if x > 0 else 0\n",
    "\n",
    "def L2_norm(vec):\n",
    "    \"\"\"\n",
    "    Counts L2 norm of a vector\n",
    "    \"\"\"\n",
    "    ans = 0\n",
    "    for num in vec:\n",
    "        ans += num * num\n",
    "    return np.sqrt(ans)"
   ]
  },
  {
   "cell_type": "code",
   "execution_count": 23,
   "id": "a8f8ef80",
   "metadata": {},
   "outputs": [],
   "source": [
    "def get_householder_matrix(A, col_num):\n",
    "    \"\"\"\n",
    "    Get householder matrix for iteration of QR decomposition\n",
    "    Returns householder matrix H\n",
    "    \"\"\"\n",
    "    n = A.shape[0]\n",
    "    v = np.zeros(n)\n",
    "    a = A[:, col_num]\n",
    "    v[col_num] = a[col_num] + sign(a[col_num]) * L2_norm(a[col_num:])\n",
    "    for i in range(col_num + 1, n):\n",
    "        v[i] = a[i]\n",
    "    v = v[:, np.newaxis]\n",
    "    H = np.eye(n) - (2 / (v.T @ v)) * (v @ v.T)\n",
    "    return H"
   ]
  },
  {
   "cell_type": "code",
   "execution_count": 24,
   "id": "c3382bc7",
   "metadata": {},
   "outputs": [],
   "source": [
    "def QR_decomposition(A):\n",
    "    \"\"\"\n",
    "    Make QR decomposition: A = QR\n",
    "    Returns Q, R\n",
    "    \"\"\"\n",
    "    n = A.shape[0]\n",
    "    Q = np.eye(n)\n",
    "    A_i = np.copy(A)\n",
    "\n",
    "    for i in range(n - 1):\n",
    "        H = get_householder_matrix(A_i, i)\n",
    "        Q = Q @ H\n",
    "        A_i = H @ A_i\n",
    "    return Q, A_i"
   ]
  },
  {
   "cell_type": "code",
   "execution_count": 25,
   "id": "9483d4bd",
   "metadata": {},
   "outputs": [],
   "source": [
    "def get_roots(A, i):\n",
    "    \"\"\"\n",
    "    Get roots of system of two equations (i and i+1) of matrix A\n",
    "    \"\"\"\n",
    "    n = A.shape[0]\n",
    "    a11 = A[i][i]\n",
    "    a12 = A[i][i + 1] if i + 1 < n else 0\n",
    "    a21 = A[i + 1][i] if i + 1 < n else 0\n",
    "    a22 = A[i + 1][i + 1] if i + 1 < n else 0\n",
    "    return np.roots((1, -a11 - a22, a11 * a22 - a12 * a21))"
   ]
  },
  {
   "cell_type": "code",
   "execution_count": 26,
   "id": "7e4835bc",
   "metadata": {},
   "outputs": [],
   "source": [
    "def is_complex(A, i, eps):\n",
    "    \"\"\"\n",
    "    Check if i and (i+1)-th eigen values are complex\n",
    "    \"\"\"\n",
    "    Q, R = QR_decomposition(A)\n",
    "    A_next = np.dot(R, Q)\n",
    "    lambda1 = get_roots(A, i)\n",
    "    lambda2 = get_roots(A_next, i)\n",
    "    return abs(lambda1[0] - lambda2[0]) <= eps and abs(lambda1[1] - lambda2[1]) <= eps"
   ]
  },
  {
   "cell_type": "code",
   "execution_count": 27,
   "id": "a8ca3f42",
   "metadata": {},
   "outputs": [],
   "source": [
    "def get_eigen_value(A, i, eps):\n",
    "    \"\"\"\n",
    "    Get i-th (and (i+1)-th if complex) eigen value of matrix A.\n",
    "    Returns eigen value(s) and matrix A_i for the next iterations\n",
    "    \"\"\"\n",
    "    A_i = np.copy(A)\n",
    "    while True:\n",
    "        Q, R = QR_decomposition(A_i)\n",
    "        A_i = R @ Q\n",
    "        if L2_norm(A_i[i + 1:, i]) <= eps:\n",
    "            return A_i[i][i], A_i\n",
    "        elif L2_norm(A_i[i + 2:, i]) <= eps and is_complex(A_i, i, eps):\n",
    "            return get_roots(A_i, i), A_i"
   ]
  },
  {
   "cell_type": "code",
   "execution_count": 28,
   "id": "01594f97",
   "metadata": {},
   "outputs": [],
   "source": [
    "def get_eigen_values_QR(A, eps):\n",
    "    \"\"\"\n",
    "    Count all eigen values of A using QR decomposition\n",
    "    \"\"\"\n",
    "    n = A.shape[0]\n",
    "    A_i = np.copy(A)\n",
    "    eigen_values = []\n",
    "\n",
    "    i = 0\n",
    "    while i < n:\n",
    "        cur_eigen_values, A_i_plus_1 = get_eigen_value(A_i, i, eps)\n",
    "        if isinstance(cur_eigen_values, np.ndarray):\n",
    "            # complex\n",
    "            eigen_values.extend(cur_eigen_values)\n",
    "            i += 2\n",
    "        else:\n",
    "            # real\n",
    "            eigen_values.append(cur_eigen_values)\n",
    "            i += 1\n",
    "        A_i = A_i_plus_1\n",
    "    return eigen_values"
   ]
  },
  {
   "cell_type": "code",
   "execution_count": 30,
   "id": "12413a38",
   "metadata": {},
   "outputs": [
    {
     "name": "stdout",
     "output_type": "stream",
     "text": [
      "Enter the size of matrix: 3\n",
      "Enter matrix A\n",
      "-4 -6 -3\n",
      "-1 5 -5\n",
      "6 2 5\n",
      "Enter epsilon: 0.001\n",
      "Eigen values: [7.111398329519387, (-0.5557251391279904+3.8205781617612535j), (-0.5557251391279904-3.8205781617612535j)]\n"
     ]
    }
   ],
   "source": [
    "if __name__ == '__main__':\n",
    "    n = int(input('Enter the size of matrix: '))\n",
    "\n",
    "    print('Enter matrix A')\n",
    "    A = [[] for _ in range(n)]\n",
    "    for i in range(n):\n",
    "        row = list(map(int, input().split()))\n",
    "        A[i] = row\n",
    "    A = np.array(A, dtype='float')\n",
    "    eps = float(input('Enter epsilon: '))\n",
    "\n",
    "    eig_values = get_eigen_values_QR(A, eps)\n",
    "    print('Eigen values:', eig_values)"
   ]
  }
 ],
 "metadata": {
  "kernelspec": {
   "display_name": "Python 3 (ipykernel)",
   "language": "python",
   "name": "python3"
  },
  "language_info": {
   "codemirror_mode": {
    "name": "ipython",
    "version": 3
   },
   "file_extension": ".py",
   "mimetype": "text/x-python",
   "name": "python",
   "nbconvert_exporter": "python",
   "pygments_lexer": "ipython3",
   "version": "3.9.7"
  }
 },
 "nbformat": 4,
 "nbformat_minor": 5
}
