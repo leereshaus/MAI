{
 "cells": [
  {
   "cell_type": "markdown",
   "id": "7191e9f0",
   "metadata": {},
   "source": [
    "# Лабораторная работа 3\n",
    "## Методы приближения функции. Численные дифференциирование и интегрирование"
   ]
  },
  {
   "cell_type": "code",
   "execution_count": 108,
   "id": "aaee4448",
   "metadata": {},
   "outputs": [],
   "source": [
    "import numpy as np\n",
    "from math import tan, pi, log\n",
    "import matplotlib.pyplot as plt\n",
    "from bisect import bisect\n",
    "from prettytable import PrettyTable"
   ]
  },
  {
   "cell_type": "code",
   "execution_count": 132,
   "id": "822e46e9",
   "metadata": {},
   "outputs": [],
   "source": [
    "def spline_interpolation(x, y, x_test):\n",
    "    \"\"\"\n",
    "    Get cubic spline interpolation s(x) of tabular function y = f(x)\n",
    "    s(x) = a + b(x - x_{i-1}) + c(x - x_{i-1})^2 + d(x - x_{i-1})^3\n",
    "    Returns:\n",
    "        arrays of coefficients a, b, c, d for each interval,\n",
    "        s(x_test)\n",
    "    \"\"\"\n",
    "    assert len(x) == len(y)\n",
    "    n = len(x)\n",
    "\n",
    "    # Step 1. Get c coefs\n",
    "    h = [x[i] - x[i - 1] for i in range(1, len(x))]\n",
    "    # tridiagonal matrix for calculating c:\n",
    "    A = [[0 for _ in range(len(h)-1)] for _ in range(len(h)-1)]\n",
    "    A[0][0] = 2 * (h[0] + h[1])\n",
    "    A[0][1] = h[1]\n",
    "    for i in range(1, len(A) - 1):\n",
    "        A[i][i-1] = h[i-1]\n",
    "        A[i][i] = 2 * (h[i-1] + h[i])\n",
    "        A[i][i+1] = h[i]\n",
    "    A[-1][-2] = h[-2]\n",
    "    A[-1][-1] = 2 * (h[-2] + h[-1])\n",
    "\n",
    "    m = [3.0 * ((y[i+1] - y[i]) / h[i] - (y[i] - y[i-1]) / h[i-1]) for i in range(1, len(h))]\n",
    "\n",
    "    c = [0] + tridiagonal_solve(A, m)\n",
    "\n",
    "    # Step 2. Get a coefs\n",
    "    a = [y[i-1] for i in range(1, n)]\n",
    "\n",
    "    # Step 3. Get b coefs\n",
    "    b = [(y[i] - y[i-1]) / h[i-1] - (h[i-1] / 3.0) * (2.0 * c[i-1] + c[i]) for i in range(1, len(h))]\n",
    "    b.append((y[-1] - y[-2]) / h[-1] - (2.0 * h[-1] * c[-1]) / 3.0)\n",
    "\n",
    "    # Step 4. Get d coefs\n",
    "    d = [(c[i] - c[i-1]) / (3.0 * h[i-1]) for i in range(1, len(h))]\n",
    "    d.append(-c[-1] / (3.0 * h[-1]))\n",
    "\n",
    "    # Calculate s(x_test)\n",
    "    for interval in range(len(x)):\n",
    "        if x[interval] <= x_test < x[interval+1]:\n",
    "            i = interval\n",
    "            break\n",
    "    y_test = s(a[i + 1], b[i + 1], c[i + 1], d[i + 1], x_test - x[i])\n",
    "    return a, b, c, d, y_test"
   ]
  },
  {
   "cell_type": "markdown",
   "id": "d50c3777",
   "metadata": {},
   "source": [
    "### 3.1. Используя таблицу значений $Y_i$ функции $y=f(x)$, вычисленных в точках $X_i, i=0,...,3$ построить интерполяционные многочлены Лагранжа и Ньютона, проходящие через точки ${X_i, Y_i}$.  Вычислить значение погрешности интерполяции в точке $X^*$."
   ]
  },
  {
   "cell_type": "code",
   "execution_count": 109,
   "id": "498f8707",
   "metadata": {},
   "outputs": [],
   "source": [
    "f = lambda x: 1/ tan(x)\n",
    "x1 = [0.125*pi, 0.25*pi, 0.375*pi, 0.5*pi]\n",
    "x2 = [0.125*pi, 0.3125*pi, 0.375*pi, 0.5*pi]\n",
    "y1 = [f(x) for x in x1]\n",
    "y2 = [f(x) for x in x2]\n",
    "X = pi / 3"
   ]
  },
  {
   "cell_type": "markdown",
   "id": "a59175fe",
   "metadata": {},
   "source": [
    "#### Интерполяционный многочлен Лагранжа"
   ]
  },
  {
   "cell_type": "code",
   "execution_count": 110,
   "id": "80f7a38c",
   "metadata": {},
   "outputs": [],
   "source": [
    "def Lagrange_polynomial(x, y):\n",
    "    class FunctorList:\n",
    "        def __init__(self, func_list):\n",
    "            self.func_list = func_list\n",
    "        def __call__(self, X):\n",
    "            return np.array([func(X) for func in self.func_list])\n",
    "    x, y = np.array(x), np.array(y)\n",
    "    n = len(x)\n",
    "    func_part = FunctorList([lambda X, i=i: (np.array([X]*(n-1)) - np.concatenate((x[:i], x[i+1:]))).prod() for i in range(n)])\n",
    "    omega_der = [(np.array([x[i]]*(len(x)-1)) - np.concatenate((x[:i], x[i+1:]))).prod() for i in range(n)]\n",
    "    const_part = y / np.array(omega_der)\n",
    "    return lambda X: (const_part * func_part(X)).sum()"
   ]
  },
  {
   "cell_type": "code",
   "execution_count": 111,
   "id": "4c618e42",
   "metadata": {},
   "outputs": [
    {
     "data": {
      "image/png": "[encoded data removed]",
      "text/plain": [
       "<Figure size 432x288 with 1 Axes>"
      ]
     },
     "metadata": {
      "needs_background": "light"
     },
     "output_type": "display_data"
    },
    {
     "name": "stdout",
     "output_type": "stream",
     "text": [
      "P(1.0471975511965976) = 0.5579748085542389\n",
      "f(1.0471975511965976) = 0.577350269189626\n",
      "Абсолютная погрешность интерполяции составляет 0.019375460635387087\n"
     ]
    }
   ],
   "source": [
    "P = np.vectorize(Lagrange_polynomial(x1, y1))\n",
    "f = np.vectorize(f)\n",
    "x_grid = np.linspace(0.1*pi, 0.6*pi, 100)\n",
    "plt.plot(x_grid, P(x_grid))\n",
    "plt.plot(x_grid, f(x_grid))\n",
    "plt.plot([X, X], [P(X), f(X)], marker='o')\n",
    "plt.scatter(x1, y1)\n",
    "plt.show()\n",
    "print(f'P({X}) = {P(X)}')\n",
    "print(f'f({X}) = {f(X)}')\n",
    "print('Абсолютная погрешность интерполяции составляет', abs(P(X) - f(X)))"
   ]
  },
  {
   "cell_type": "markdown",
   "id": "88029c61",
   "metadata": {},
   "source": [
    "#### Интерполяционный многочлен Ньютона"
   ]
  },
  {
   "cell_type": "code",
   "execution_count": 112,
   "id": "570cf1e8",
   "metadata": {},
   "outputs": [],
   "source": [
    "def Newton_polynomial(x, y):\n",
    "    x, y = np.array(x), np.array(y)\n",
    "    n = len(x)\n",
    "    f = [y]\n",
    "    for i in range(1, n):\n",
    "        f.append(np.array([(f[-1][j] - f[-1][j+1]) / (x[j] - x[i+j]) for j in range(n-i)]))\n",
    "    def ret(X):\n",
    "        ans = f[0][0]\n",
    "        acc = 1\n",
    "        for i in range(n-1):\n",
    "            acc *= X - x[i]\n",
    "            ans += acc * f[i+1][0]\n",
    "        return ans\n",
    "    return ret"
   ]
  },
  {
   "cell_type": "code",
   "execution_count": 113,
   "id": "f2aa49be",
   "metadata": {},
   "outputs": [
    {
     "data": {
      "image/png": "[encoded data removed]",
      "text/plain": [
       "<Figure size 432x288 with 1 Axes>"
      ]
     },
     "metadata": {
      "needs_background": "light"
     },
     "output_type": "display_data"
    },
    {
     "name": "stdout",
     "output_type": "stream",
     "text": [
      "P(1.0471975511965976) = 0.5734953726581077\n",
      "f(1.0471975511965976) = 0.577350269189626\n",
      "Абсолютная погрешность интерполяции составляет 0.0038548965315182704\n"
     ]
    }
   ],
   "source": [
    "P = np.vectorize(Newton_polynomial(x2, y2))\n",
    "f = np.vectorize(f)\n",
    "x_grid = np.linspace(0.1*pi, 0.6*pi, 100)\n",
    "plt.plot(x_grid, P(x_grid))\n",
    "plt.plot(x_grid, f(x_grid))\n",
    "plt.plot([X, X], [P(X), f(X)], marker='o')\n",
    "plt.scatter(x2, y2)\n",
    "plt.show()\n",
    "print(f'P({X}) = {P(X)}')\n",
    "print(f'f({X}) = {f(X)}')\n",
    "print('Абсолютная погрешность интерполяции составляет', abs(P(X) - f(X)))"
   ]
  },
  {
   "cell_type": "markdown",
   "id": "5c521f60",
   "metadata": {},
   "source": [
    "### 3.2. Построить кубический сплайн для функции, заданной в узлах интерполяции, предполагая, что сплайн имеет нулевую кривизну при $x=x_0$ и $x=x_4$. Вычислить значение функции в точке $x=X^*$."
   ]
  },
  {
   "cell_type": "code",
   "execution_count": 114,
   "id": "abc281ef",
   "metadata": {},
   "outputs": [],
   "source": [
    "#x = [0, 1, 2, 3, 4]\n",
    "#y = [0.0, 0.5, 0.86603, 1.0, 0.86603]\n",
    "#X = 1.5\n",
    "\n",
    "x = [1.0, 1.9, 2.8, 3.7, 4.6]\n",
    "y = [2.4142, 1.0818, 0.50953, 0.11836, -0.24008]\n",
    "X = 2.66666667"
   ]
  },
  {
   "cell_type": "code",
   "execution_count": 131,
   "id": "c1496f72",
   "metadata": {},
   "outputs": [],
   "source": [
    "def tridiagonal_algo(A, b):\n",
    "    alfa = [0] + [A[i+1][i] for i in range(len(A)-1)]\n",
    "    beta = [-A[i][i] for i in range(len(A))]\n",
    "    gamma = [A[i][i+1] for i in range(len(A)-1)] + [0]\n",
    "    P = [gamma[0] / beta[0]]\n",
    "    Q = [-b[0] / beta[0]]\n",
    "    for i in range(1, len(A)-1):\n",
    "        P.append(gamma[i] / (beta[i] - alfa[i] * P[i-1]))\n",
    "        Q.append((alfa[i] * Q[i-1] - b[i]) / (beta[i] - alfa[i] * P[i-1]))\n",
    "    x = [(alfa[-1] * Q[-1] - b[-1]) / (beta[-1] - alfa[-1] * P[-1])]\n",
    "    for i in range(len(A)-2, -1, -1):\n",
    "        x.append(P[i] * x[-1] + Q[i])\n",
    "    return x[::-1]"
   ]
  },
  {
   "cell_type": "code",
   "execution_count": 129,
   "id": "99968801",
   "metadata": {},
   "outputs": [],
   "source": [
    "def Cubic_spline(x, y):\n",
    "    n = len(x)\n",
    "    h = [0] + [x[i]-x[i-1] for i in range(1, n)]\n",
    "    k = [[h[i-1], 2*(h[i-1]+h[i]), h[i]] for i in range(2, n)]\n",
    "    v = [3 * ((y[i]-y[i-1])/h[i] - (y[i-1]-y[i-2])/h[i-1]) for i in range(2, n)]\n",
    "    A = np.array([[0]*len(k)]*len(k))\n",
    "    for i in range(len(A)-1):\n",
    "        A[i+1][i] = k[i+1][0]\n",
    "    for i in range(len(A)):\n",
    "        A[i][i] = k[i][1]\n",
    "    for i in range(len(A)-1):\n",
    "        A[i][i+1] = k[i][2]\n",
    "    c = [0,0] + tridiagonal_algo(A, v)\n",
    "    a = [0,0] + y[1:-1]\n",
    "    b = [0] + [(y[i] - y[i-1]) / h[i] - h[i] * (c[i+1] + 2*c[i]) / 3 for i in range(1, n-1)] + [(y[n-1] - y[n-2]) / h[n-1] - 2/3 * h[n-1]*c[n-1]]\n",
    "    d = [0] + [(c[i+1] - c[i]) / (3 * h[i]) for i in range(1, n-1)] + [-c[n-1]/(3*h[n-1])]\n",
    "    xx = [0] + [(x[i], x[i+1]) for i in range(n-1)]\n",
    "    spline_table = list(zip(xx[1:], a[1:], b[1:], c[1:], d[1:]))\n",
    "    def f(a, t):\n",
    "        b = 0\n",
    "        for ai in a: b = ai + b*t\n",
    "        return b\n",
    "    def func(X):\n",
    "        for line in spline_table:\n",
    "            if line[0][0] <= X <= line[0][1]:\n",
    "                return f(line[1:][::-1], X - line[0][0])\n",
    "    return func"
   ]
  },
  {
   "cell_type": "code",
   "execution_count": 136,
   "id": "a9d1f417",
   "metadata": {},
   "outputs": [
    {
     "name": "stdout",
     "output_type": "stream",
     "text": [
      "[1.0; 1.9)\n",
      "s(x) = 2.4142 + -1.6929500000000002(x - 1.0) + 0(x - 1.0)^2 + 0.2623525377229081(x - 1.0)^3\n",
      "\n",
      "\n",
      "[1.9; 2.8)\n",
      "s(x) = 1.0818 + -1.0554333333333337(x - 1.9) + 0.7083518518518519(x - 1.9)^2 + -0.26906035665294914(x - 1.9)^3\n",
      "\n",
      "\n",
      "[2.8; 3.7)\n",
      "s(x) = 0.50953 + -0.43421666666666664(x - 2.8) + -0.01811111111111075(x - 2.8)^2 + 0.01960905349794211(x - 2.8)^3\n",
      "\n",
      "\n",
      "[3.7; 4.6)\n",
      "s(x) = 0.11836 + -0.41916666666666663(x - 3.7) + 0.034833333333332966(x - 3.7)^2 + -0.012901234567901106(x - 3.7)^3\n",
      "\n",
      "\n",
      "s(x_test) = s(2.66666667) = 0.17482166600404656\n"
     ]
    },
    {
     "data": {
      "image/png": "[encoded data removed]",
      "text/plain": [
       "<Figure size 432x288 with 1 Axes>"
      ]
     },
     "metadata": {
      "needs_background": "light"
     },
     "output_type": "display_data"
    }
   ],
   "source": [
    "P = np.vectorize(Cubic_spline(x, y))\n",
    "#x_grid = np.linspace(1.91, 5, 100)\n",
    "#x_grid1 = np.linspace(x[0], x[1], 100)\n",
    "#plt.plot(x_grid, P(x_grid), color='b')\n",
    "#plt.plot(x_grid1, P(x_grid1) + 2.4, color='b')\n",
    "#plt.scatter(x, y)\n",
    "#plt.scatter(X, P(X))\n",
    "#plt.show()\n",
    "#print(f'P({X}) = {P(X)}')\n",
    "\n",
    "def draw_plot(x_original, y_original, a, b, c, d):\n",
    "    x, y = [], []\n",
    "    for i in range(len(x_original) - 1):\n",
    "        x1 = np.linspace(x_original[i], x_original[i + 1], 10)\n",
    "        y1 = [s(a[i], b[i], c[i], d[i], j - x_original[i]) for j in x1]\n",
    "        x.append(x1)\n",
    "        y.append(y1)\n",
    "\n",
    "    plt.scatter(x_original, y_original, color='r')\n",
    "    for i in range(len(x_original) - 1):\n",
    "        plt.plot(x[i], y[i], color='b')\n",
    "    plt.scatter(X, P(X))\n",
    "    plt.show()\n",
    "    \n",
    "a, b, c, d, y_test = spline_interpolation(x, y, x_test)\n",
    "for i in range(len(x) - 1):\n",
    "    print(f'[{x[i]}; {x[i+1]})')\n",
    "    print(f's(x) = {a[i]} + {b[i]}(x - {x[i]}) + {c[i]}(x - {x[i]})^2 + {d[i]}(x - {x[i]})^3')\n",
    "    print('\\n')\n",
    "    \n",
    "print(f's(x_test) = s({x_test}) = {y_test}')\n",
    "draw_plot(x, y, a, b, c, d)"
   ]
  },
  {
   "cell_type": "markdown",
   "id": "69d27abb",
   "metadata": {},
   "source": [
    "### 3.3. Для таблично заданной функции путем решения нормальной системы МНК найти приближающие многочлены a) 1-ой и б) 2-ой степени. Для каждого из приближающих многочленов вычислить сумму квадратов ошибок. Построить графики приближаемой функции и приближающих многочленов."
   ]
  },
  {
   "cell_type": "code",
   "execution_count": 54,
   "id": "2900be38",
   "metadata": {},
   "outputs": [],
   "source": [
    "x = [1.0, 1.9, 2.8, 3.7, 4.6, 5.5]\n",
    "y = [2.4142, 1.0818, 0.50953, 0.11836, -0.24008, -0.66818]"
   ]
  },
  {
   "cell_type": "code",
   "execution_count": 55,
   "id": "8c003979",
   "metadata": {},
   "outputs": [],
   "source": [
    "class LU:\n",
    "    EPS = 1e-6\n",
    "\n",
    "    def __init__(self, U):\n",
    "        L = np.eye(len(U), dtype=float)\n",
    "        isDetNeg = False\n",
    "        permut = np.array(range(len(U)))\n",
    "        for i in range(len(U)):\n",
    "            max_idx = i\n",
    "            for j in range(i + 1, len(U)):\n",
    "                if abs(U[max_idx][i]) < abs(U[j][i]):\n",
    "                    max_idx = j\n",
    "            if max_idx != i:\n",
    "                U[[i, max_idx]] = U[[max_idx, i]]\n",
    "                L[[i, max_idx]] = L[[max_idx, i]]\n",
    "                L[:, [i, max_idx]] = L[:, [max_idx, i]]\n",
    "                isDetNeg = not isDetNeg\n",
    "                permut[[i, max_idx]] = permut[[max_idx, i]]\n",
    "            if abs(U[i][i]) < self.EPS: continue\n",
    "            for j in range(i + 1, len(U)):\n",
    "                mu = U[j][i] / U[i][i]\n",
    "                L[j][i] = mu\n",
    "                for k in range(len(U)):\n",
    "                    U[j][k] -= mu * U[i][k]\n",
    "        det = U.diagonal().prod()\n",
    "        if isDetNeg: det = -det\n",
    "        self._permut = permut\n",
    "        self.L = L\n",
    "        self.U = U\n",
    "        self.det = det\n",
    "\n",
    "    def solve(self, b):\n",
    "        b = np.array([ b[pi] for pi in self._permut ], dtype=float)\n",
    "        z = np.array([0] * len(b), dtype=float)\n",
    "        for i in range(len(b)):\n",
    "            z[i] = b[i]\n",
    "            for j in range(i):\n",
    "                z[i] -= self.L[i, j] * z[j]\n",
    "        x = np.array([0] * len(b), dtype=float)\n",
    "        for i in range(len(b)-1, -1, -1):\n",
    "            if abs(self.U[i, i]) < self.EPS: continue\n",
    "            x[i] = z[i]\n",
    "            for j in range(len(b)-1, i, -1):\n",
    "                x[i] -= x[j] * self.U[i, j]\n",
    "            x[i] /= self.U[i, i]\n",
    "        return x"
   ]
  },
  {
   "cell_type": "code",
   "execution_count": 56,
   "id": "2e49e235",
   "metadata": {},
   "outputs": [],
   "source": [
    "    def inverse(self):\n",
    "        n = len(self.L)\n",
    "        ret = np.matrix([[0] * n] * n, dtype=float)\n",
    "        for i in range(n):\n",
    "            b = np.array([0] * n, dtype=float)\n",
    "            b[i] = 1\n",
    "            ret[:, i] = np.matrix(self.solve(b)).T\n",
    "        return ret"
   ]
  },
  {
   "cell_type": "code",
   "execution_count": 57,
   "id": "047417ad",
   "metadata": {},
   "outputs": [],
   "source": [
    "def least_square_method(x, y, deg=1):\n",
    "    x, y = np.array(x), np.array(y)\n",
    "    xk = np.array([1.0]*len(x))\n",
    "    A = np.array([[0.0]*(deg+1)]*(deg+1))\n",
    "    b = [y.sum()]\n",
    "    A[0][0] = len(x)\n",
    "    for i in range(1, 2*deg+1):\n",
    "        xk *= x\n",
    "        sx = xk.sum()\n",
    "        if i <= deg:\n",
    "            b.append((y * xk).sum())\n",
    "            for j in range(i+1):\n",
    "                A[-j-(deg-i)-1][j] = sx\n",
    "        else:\n",
    "            for j in range(2*deg-i+1):\n",
    "                A[-j-1][j+i-deg] = sx\n",
    "    a = LU(A).solve(b)\n",
    "    def f(a, t):\n",
    "        b = 0\n",
    "        for ai in a:\n",
    "            b = ai + b*t\n",
    "        return b\n",
    "    return lambda X: f(a[::-1], X)"
   ]
  },
  {
   "cell_type": "code",
   "execution_count": 58,
   "id": "b91e1f60",
   "metadata": {},
   "outputs": [],
   "source": [
    "def square_error(y, p):\n",
    "    return sum([(y[i]-p[i])**2 for i in range(len(y))])"
   ]
  },
  {
   "cell_type": "code",
   "execution_count": 59,
   "id": "8fa1c1f2",
   "metadata": {},
   "outputs": [
    {
     "data": {
      "image/png": "[encoded data removed]",
      "text/plain": [
       "<Figure size 432x288 with 1 Axes>"
      ]
     },
     "metadata": {
      "needs_background": "light"
     },
     "output_type": "display_data"
    },
    {
     "name": "stdout",
     "output_type": "stream",
     "text": [
      "Сумма квадратов ошибок многочлена степени 1: 0.4701221112819048\n",
      "Сумма квадратов ошибок многочлена степени 2: 0.1259531432771428\n"
     ]
    }
   ],
   "source": [
    "P1 = np.vectorize(least_square_method(x, y, 1))\n",
    "P2 = np.vectorize(least_square_method(x, y, 2))\n",
    "x_grid = np.linspace(2*x[0]-x[1], 2*x[-1]-x[-2], 100)\n",
    "plt.plot(x_grid, P1(x_grid), color = 'b')\n",
    "plt.plot(x_grid, P2(x_grid), color = 'r')\n",
    "plt.scatter(x, y)\n",
    "plt.show()\n",
    "print('Сумма квадратов ошибок многочлена степени 1:', square_error(y, P1(x)))\n",
    "print('Сумма квадратов ошибок многочлена степени 2:', square_error(y, P2(x)))"
   ]
  },
  {
   "cell_type": "markdown",
   "id": "ffe70a83",
   "metadata": {},
   "source": [
    "### 3.4. Вычислить первую и вторую производную от таблично заданной функции $y_i=f(x_i), i=0,1,2,3,4$ в точке $x=X^*$."
   ]
  },
  {
   "cell_type": "code",
   "execution_count": 17,
   "id": "ea6057e2",
   "metadata": {},
   "outputs": [],
   "source": [
    "#Var_1\n",
    "#x = [-1, 0, 1, 2, 3]\n",
    "#y = [-0.5, 0.0, 0.50, 0.86603, 1.0]\n",
    "#X = 1\n",
    "\n",
    "#Var_3\n",
    "#x = [1.0, 1.5, 2.0, 2.5, 3.0]\n",
    "#y = [0.0, 0.40547, 0.69315, 0.91629, 1.0986]\n",
    "#X = 2.0\n",
    "\n",
    "#Var_4 \n",
    "x = [0.0, 0.1, 0.2, 0.3, 0.4]\n",
    "y = [1.0, 1.1052, 1.2214, 1.3499, 1.4918]\n",
    "X = 0.2"
   ]
  },
  {
   "cell_type": "code",
   "execution_count": 18,
   "id": "958bb1d5",
   "metadata": {},
   "outputs": [],
   "source": [
    "def derivative(x, y):\n",
    "    def f(X):\n",
    "        li, ri = max(0, bisect(x, X)-1), min(len(x)-1, bisect(x, X))\n",
    "        i = li if X - x[li] < x[ri] - X else ri\n",
    "        if i == 0: i += 1\n",
    "        elif i == len(x)-1: i -=1\n",
    "        return (y[i]-y[i-1])/(x[i]-x[i-1]) + ((y[i+1]-y[i])/(x[i+1]-x[i]) - (y[i]-y[i-1])/(x[i]-x[i-1]))/(x[i+1]-x[i-1]) * (2*X-x[i-1]-x[i])\n",
    "    return f"
   ]
  },
  {
   "cell_type": "code",
   "execution_count": 19,
   "id": "17a2520a",
   "metadata": {},
   "outputs": [],
   "source": [
    "def derivative_2(x, y):\n",
    "    def f(X):\n",
    "        li, ri = max(0, bisect(x, X)-1), min(len(x)-1, bisect(x, X))\n",
    "        i = li if X - x[li] < x[ri] - X else ri\n",
    "        if i == 0: i += 1\n",
    "        elif i == len(x)-1: i -=1\n",
    "        return 2 * ((y[i+1]-y[i])/(x[i+1]-x[i])-(y[i]-y[i-1])/(x[i]-x[i-1]))/(x[i+1]-x[i-1])\n",
    "    return f"
   ]
  },
  {
   "cell_type": "code",
   "execution_count": 20,
   "id": "f90c0b38",
   "metadata": {},
   "outputs": [
    {
     "data": {
      "image/png": "[encoded data removed]",
      "text/plain": [
       "<Figure size 432x288 with 1 Axes>"
      ]
     },
     "metadata": {
      "needs_background": "light"
     },
     "output_type": "display_data"
    },
    {
     "name": "stdout",
     "output_type": "stream",
     "text": [
      "f'(0.2) = 1.223500000000001\n",
      "f''(0.2) = 1.23\n"
     ]
    }
   ],
   "source": [
    "df = np.vectorize(derivative(x, y))\n",
    "d2f = np.vectorize(derivative_2(x, y))\n",
    "x_grid = np.linspace(x[0], x[-1], 100)\n",
    "plt.axhline(0, color='black', linewidth=0.4)\n",
    "plt.plot(x, df(x))\n",
    "plt.plot(x, d2f(x))\n",
    "# plt.plot(x_grid, df(x_grid))\n",
    "# plt.plot(x_grid, d2f(x_grid))\n",
    "plt.scatter(x, y)\n",
    "plt.show()\n",
    "print(f'f\\'({X}) = {df(X)}')\n",
    "print(f'f\\'\\'({X}) = {d2f(X)}')"
   ]
  },
  {
   "cell_type": "code",
   "execution_count": 21,
   "id": "c6d77905",
   "metadata": {},
   "outputs": [
    {
     "data": {
      "image/png": "[encoded data removed]",
      "text/plain": [
       "<Figure size 432x288 with 1 Axes>"
      ]
     },
     "metadata": {
      "needs_background": "light"
     },
     "output_type": "display_data"
    }
   ],
   "source": [
    "f_inter = np.vectorize(Newton_polynomial(x, y))\n",
    "df = np.vectorize(derivative(x, y))\n",
    "df_inter = np.vectorize(Newton_polynomial(x, df(x)))\n",
    "d2f = np.vectorize(derivative_2(x, y))\n",
    "d2f_inter = np.vectorize(Newton_polynomial(x, d2f(x)))\n",
    "x_grid = np.linspace(x[0], x[-1], 100)\n",
    "plt.axhline(0, color='black', linewidth=0.4)\n",
    "plt.plot(x_grid, df_inter(x_grid))\n",
    "plt.plot(x_grid, d2f_inter(x_grid))\n",
    "plt.plot(x_grid, f_inter(x_grid))\n",
    "plt.scatter(x, y)\n",
    "plt.show()"
   ]
  },
  {
   "cell_type": "markdown",
   "id": "6cbc8dbb",
   "metadata": {},
   "source": [
    "### 3.5. Вычислить определенный интеграл $F=\\int_{x_0}^{x_1}y\\ dx$ методами прямоугольников, трапеций, Симпсона с шагами $h_1, h_2$. Оценить погрешность вычислений, используя Метод Рунге-Ромберга."
   ]
  },
  {
   "cell_type": "code",
   "execution_count": 137,
   "id": "48b2cca5",
   "metadata": {},
   "outputs": [],
   "source": [
    "f = np.vectorize(lambda x: (3*x + 4) / (2*x + 7))\n",
    "x0, xk = -2, 2\n",
    "h1, h2 = 1.0, 0.5\n",
    "x1 = np.linspace(x0, xk, int((xk - x0) / h1)+1)\n",
    "x2 = np.linspace(x0, xk, int((xk - x0) / h2)+1)\n",
    "ans = 1.77733 # значение интеграла по калькулятору"
   ]
  },
  {
   "cell_type": "code",
   "execution_count": 138,
   "id": "d566b090",
   "metadata": {},
   "outputs": [],
   "source": [
    "def rectangle_method(x, f):\n",
    "    x = np.array(x)\n",
    "    h = x[1] - x[0]\n",
    "    f = np.vectorize(f)\n",
    "    return h * sum(f((x[:-1] + x[1:]) / 2))"
   ]
  },
  {
   "cell_type": "code",
   "execution_count": 139,
   "id": "2c24727c",
   "metadata": {},
   "outputs": [],
   "source": [
    "def trapezoidal_method(x, f):\n",
    "    h = x[1] - x[0]\n",
    "    f = np.vectorize(f)\n",
    "    return h * ((f(x[0])+f(x[-1]))/2 + sum(f(x[1:-1])))"
   ]
  },
  {
   "cell_type": "code",
   "execution_count": 140,
   "id": "672820ae",
   "metadata": {},
   "outputs": [],
   "source": [
    "def Simpson_method(x, f):\n",
    "    x = np.array(x)\n",
    "    h = x[1] - x[0]\n",
    "    f = np.vectorize(f)\n",
    "    return h / 3 * (f(x[0]) - f(x[-1]) + 4*sum(f(x[1::2])) + 2*sum(f(x[2::2])))"
   ]
  },
  {
   "cell_type": "code",
   "execution_count": 141,
   "id": "72135823",
   "metadata": {},
   "outputs": [],
   "source": [
    "def Runge_Romberg_Richardson_method(F_h, F_kh, k, p):\n",
    "    return F_h + (F_h - F_kh) / (k**p - 1)"
   ]
  },
  {
   "cell_type": "code",
   "execution_count": 144,
   "id": "0cc4bc4c",
   "metadata": {},
   "outputs": [
    {
     "name": "stdout",
     "output_type": "stream",
     "text": [
      "+-----------------+--------------------+--------------------+-------------------------+------------------------+\n",
      "|      Метод      |    Шаг h1 = 1.0    |    Шаг h2 = 0.5    | Рунге-Ромберг-Ричардсон |    Абс.погрешность     |\n",
      "+-----------------+--------------------+--------------------+-------------------------+------------------------+\n",
      "| Прямоугольников | 1.8291666666666666 | 1.7909819111057501 |    1.7527971555448336   |  0.024532844455166458  |\n",
      "|     Трапеций    | 1.6704184704184701 | 1.7497925685425686 |    1.7762506012506014   | 0.0010793987493986634  |\n",
      "|     Симпсона    | 1.7654641654641652 | 1.776250601250601  |    1.7777915206486632   | 0.00046152064866311626 |\n",
      "+-----------------+--------------------+--------------------+-------------------------+------------------------+\n"
     ]
    },
    {
     "data": {
      "image/png": "[encoded data removed]",
      "text/plain": [
       "<Figure size 432x288 with 1 Axes>"
      ]
     },
     "metadata": {
      "needs_background": "light"
     },
     "output_type": "display_data"
    }
   ],
   "source": [
    "int1_rec = rectangle_method(x1, lambda x: (3*x + 4) / (2*x + 7))\n",
    "int1_trp = trapezoidal_method(x1, lambda x: (3*x + 4) / (2*x + 7))\n",
    "int1_sim = Simpson_method(x1, lambda x: (3*x + 4) / (2*x + 7))\n",
    "int2_rec = rectangle_method(x2, lambda x: (3*x + 4) / (2*x + 7))\n",
    "int2_trp = trapezoidal_method(x2, lambda x: (3*x + 4) / (2*x + 7))\n",
    "int2_sim = Simpson_method(x2, lambda x: (3*x + 4) / (2*x + 7))\n",
    "rrr1_rec = Runge_Romberg_Richardson_method(int1_rec, int2_rec, h2 / h1, 1)\n",
    "rrr1_trp = Runge_Romberg_Richardson_method(int1_trp, int2_trp, h2 / h1, 2)\n",
    "rrr1_sim = Runge_Romberg_Richardson_method(int1_sim, int2_sim, h2 / h1, 3)\n",
    "\n",
    "table = PrettyTable()\n",
    "table.field_names = ['Метод', f'Шаг h1 = {h1}', f'Шаг h2 = {h2}', 'Рунге-Ромберг-Ричардсон', 'Абс.погрешность']\n",
    "table.add_row(['Прямоугольников', int1_rec, int2_rec, rrr1_rec, abs(ans - rrr1_rec)])\n",
    "table.add_row(['Трапеций', int1_trp, int2_trp, rrr1_trp, abs(ans - rrr1_trp)])\n",
    "table.add_row(['Симпсона', int1_sim, int2_sim, rrr1_sim, abs(ans - rrr1_sim)])\n",
    "print(table)\n",
    "\n",
    "x2grid = [x2[0]-h2] + list(x2) + [x2[-1]+h2]\n",
    "plt.plot(x2grid, f(x2grid))\n",
    "plt.axhline(0, color='black', linewidth=0.4)\n",
    "plt.fill_between(x2grid, f(x2grid), where=[x2[0]<=xi<=x2[-1] for xi in x2grid], facecolor='0.9', edgecolor='0.5')\n",
    "plt.show()"
   ]
  },
  {
   "cell_type": "code",
   "execution_count": null,
   "id": "47e310d4",
   "metadata": {},
   "outputs": [],
   "source": []
  }
 ],
 "metadata": {
  "kernelspec": {
   "display_name": "Python 3 (ipykernel)",
   "language": "python",
   "name": "python3"
  },
  "language_info": {
   "codemirror_mode": {
    "name": "ipython",
    "version": 3
   },
   "file_extension": ".py",
   "mimetype": "text/x-python",
   "name": "python",
   "nbconvert_exporter": "python",
   "pygments_lexer": "ipython3",
   "version": "3.9.7"
  }
 },
 "nbformat": 4,
 "nbformat_minor": 5
}
