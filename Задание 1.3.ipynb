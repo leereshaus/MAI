{
 "cells": [
  {
   "cell_type": "code",
   "execution_count": 1,
   "id": "7dce2654",
   "metadata": {},
   "outputs": [],
   "source": [
    "from scipy.integrate import odeint\n",
    "import numpy as np\n",
    "import matplotlib.pyplot as plt\n",
    "from math import exp"
   ]
  },
  {
   "cell_type": "markdown",
   "id": "b32dcad9",
   "metadata": {},
   "source": [
    "### 3. Численно определить выход системы по заданному входу"
   ]
  },
  {
   "cell_type": "code",
   "execution_count": 34,
   "id": "3dd97fcd",
   "metadata": {},
   "outputs": [],
   "source": [
    "R, R1, C = 3, 2, 5\n",
    "T = (R + R1) * C\n",
    "T1 = R1 * C\n",
    "t = np.linspace(0, 10, 1001) #массив моментов времени"
   ]
  },
  {
   "cell_type": "code",
   "execution_count": 35,
   "id": "df21ef83",
   "metadata": {},
   "outputs": [],
   "source": [
    "def step_func(t):\n",
    "    if 2 < t < 5:\n",
    "        return 1\n",
    "    else:\n",
    "        return 0"
   ]
  },
  {
   "cell_type": "code",
   "execution_count": 36,
   "id": "a370f14d",
   "metadata": {},
   "outputs": [],
   "source": [
    "def sin_func(t):\n",
    "    return np.sin(t)"
   ]
  },
  {
   "cell_type": "code",
   "execution_count": 37,
   "id": "071e8fef",
   "metadata": {},
   "outputs": [],
   "source": [
    "x_step_vec = np.array(list(map(lambda t: 1 if 2 < t < 5 else 0, t)))\n",
    "x_sin_vec = np.array(list(map(lambda t: np.sin(t), t)))"
   ]
  },
  {
   "cell_type": "code",
   "execution_count": 38,
   "id": "e0ae68a3",
   "metadata": {},
   "outputs": [],
   "source": [
    "def pend_step(z, t, T, T1):\n",
    "    x = step_func(t)\n",
    "    dzdt = x / T + x / T * T1 / T - z / T\n",
    "    return dzdt"
   ]
  },
  {
   "cell_type": "code",
   "execution_count": 39,
   "id": "db856062",
   "metadata": {},
   "outputs": [],
   "source": [
    "def pend_sin(z, t, T, T1):\n",
    "    x = sin_func(t)\n",
    "    dzdt = x / T + x / T * T1 / T - z / T\n",
    "    return dzdt"
   ]
  },
  {
   "cell_type": "code",
   "execution_count": 40,
   "id": "9d878e84",
   "metadata": {},
   "outputs": [],
   "source": [
    "z0 = 0\n",
    "\n",
    "z_step = np.squeeze(odeint(pend_step, z0, t, args=(T, T1)))\n",
    "z_sin = np.squeeze(odeint(pend_sin, z0, t, args=(T, T1)))"
   ]
  },
  {
   "cell_type": "code",
   "execution_count": 42,
   "id": "b5ce3708",
   "metadata": {},
   "outputs": [],
   "source": [
    "def y(t, z, x, T, T1):\n",
    "    res = z.copy()\n",
    "    for i in range(len(t)):\n",
    "        res[i] += x[i] * (T1 / T)\n",
    "    return res"
   ]
  },
  {
   "cell_type": "code",
   "execution_count": 44,
   "id": "c7aa3d69",
   "metadata": {},
   "outputs": [
    {
     "data": {
      "text/plain": [
       "(0.0, 8.0)"
      ]
     },
     "execution_count": 44,
     "metadata": {},
     "output_type": "execute_result"
    },
    {
     "data": {
      "image/png": "[encoded data removed]",
      "text/plain": [
       "<Figure size 432x288 with 1 Axes>"
      ]
     },
     "metadata": {
      "needs_background": "light"
     },
     "output_type": "display_data"
    }
   ],
   "source": [
    "plt.plot(t, x_step_vec, 'g')\n",
    "plt.plot(t, y(t, z_step, x_step_vec, T, T1), 'b')\n",
    "plt.xlim([0, 8])"
   ]
  },
  {
   "cell_type": "code",
   "execution_count": 45,
   "id": "524006d2",
   "metadata": {},
   "outputs": [
    {
     "data": {
      "text/plain": [
       "(0.0, 8.0)"
      ]
     },
     "execution_count": 45,
     "metadata": {},
     "output_type": "execute_result"
    },
    {
     "data": {
      "image/png": "[encoded data removed]",
      "text/plain": [
       "<Figure size 432x288 with 1 Axes>"
      ]
     },
     "metadata": {
      "needs_background": "light"
     },
     "output_type": "display_data"
    }
   ],
   "source": [
    "plt.plot(t, x_sin_vec, 'g')\n",
    "plt.plot(t, y(t, z_sin, x_sin_vec, T, T1), 'b')\n",
    "plt.xlim([0, 8])"
   ]
  },
  {
   "cell_type": "markdown",
   "id": "13d0e334",
   "metadata": {},
   "source": [
    "### 4. Оценить коэффициенты дифференциальной системы, пользуясь методом наименьших квадратов (МНК), из сравнения реакции системы на импульсное воздействие. Графически сравнить истинную ВФ с ее параметрической оценкой."
   ]
  },
  {
   "cell_type": "code",
   "execution_count": 46,
   "id": "274ec48e",
   "metadata": {},
   "outputs": [],
   "source": [
    "def mnk(x, y, dy):\n",
    "    i = 0\n",
    "    for it in range(len(x)-1):\n",
    "        if x[it] != x[it+1]:\n",
    "            x1 = float(x[it])\n",
    "            x2 = float(x[it+1])\n",
    "            y1 = float(y[it])\n",
    "            y2 = float(y[it+1])\n",
    "            dy1 = float(dy[it])\n",
    "            dy2 = float(dy[it+1])\n",
    "            i = it\n",
    "            \n",
    "            try:\n",
    "                Psi_matrix = np.array([[-y1, x1], [-y2, x2]])\n",
    "                Y = np.array([dy1, dy2])\n",
    "                params = np.linalg.solve(Psi_matrix, Y)\n",
    "                params = np.array([[params[0]], [params[1]]])\n",
    "                P = np.linalg.inv(Psi_matrix.T @ Psi_matrix) \n",
    "                break\n",
    "                \n",
    "            except:\n",
    "                continue\n",
    "    else:\n",
    "        return \"Вырожденная функция x\"\n",
    "    \n",
    "    L_m = 0\n",
    "    kappa = 0\n",
    "    psi = 0\n",
    "    \n",
    "    for i in range(i+1, len(x)-2):\n",
    "        \n",
    "        psi = np.array([[-y[i], x[i]]])\n",
    "        kappa = 1 / (1 + psi @ P @ psi.T)\n",
    "        L_m = kappa * P @ psi.T\n",
    "        params = params + L_m * (dy[i] - psi @ params)\n",
    "        \n",
    "        kappa_inv = 1 + psi @ P @ psi.T\n",
    "        P = P - kappa_inv * L_m @ L_m.T\n",
    "        \n",
    "    return params\n",
    "\n",
    "def params_for_g(params):\n",
    "    return [np.squeeze(params[0]), -np.squeeze(params[1]) / np.squeeze(params[0])] # a, b\n",
    "\n",
    "def params_for_H(params):\n",
    "    return [1 / np.squeeze(params[0]), (-np.squeeze(params[1]) / np.squeeze(params[0]) + 1) / np.squeeze(params[0])]"
   ]
  },
  {
   "cell_type": "code",
   "execution_count": 47,
   "id": "701f0167",
   "metadata": {},
   "outputs": [
    {
     "data": {
      "text/plain": [
       "[<matplotlib.lines.Line2D at 0x1fcb6cad8b0>]"
      ]
     },
     "execution_count": 47,
     "metadata": {},
     "output_type": "execute_result"
    },
    {
     "data": {
      "image/png": "[encoded data removed]",
      "text/plain": [
       "<Figure size 432x288 with 1 Axes>"
      ]
     },
     "metadata": {
      "needs_background": "light"
     },
     "output_type": "display_data"
    }
   ],
   "source": [
    "dz = np.empty(len(t)-1)\n",
    "for i in range(len(dz)):\n",
    "    dz[i] = (z_step[i+1] - z_step[i]) / (t[i+1] - t[i])\n",
    "dz = np.append(dz, dz[len(dz) - 1])\n",
    "\n",
    "plt.plot(t, dz)"
   ]
  },
  {
   "cell_type": "code",
   "execution_count": 48,
   "id": "bf5cf4c6",
   "metadata": {},
   "outputs": [
    {
     "name": "stdout",
     "output_type": "stream",
     "text": [
      "0.039992004380330834  a\n",
      "-1.3999999202797755  b\n"
     ]
    }
   ],
   "source": [
    "params_g = mnk(x_step_vec, z_step, dz)\n",
    "params_g = params_for_g(params_g)\n",
    "\n",
    "print(params_g[0], ' a')\n",
    "print(params_g[1], ' b')"
   ]
  },
  {
   "cell_type": "code",
   "execution_count": 49,
   "id": "ec47ce43",
   "metadata": {},
   "outputs": [
    {
     "data": {
      "text/plain": [
       "[<matplotlib.lines.Line2D at 0x1fcb6d1b7f0>]"
      ]
     },
     "execution_count": 49,
     "metadata": {},
     "output_type": "execute_result"
    },
    {
     "data": {
      "image/png": "[encoded data removed]",
      "text/plain": [
       "<Figure size 432x288 with 1 Axes>"
      ]
     },
     "metadata": {
      "needs_background": "light"
     },
     "output_type": "display_data"
    }
   ],
   "source": [
    "one = np.array(list(map(lambda t: 1 if t > 0 else 0, t)))\n",
    "h = np.exp(-(1/T)*t.copy()) * one\n",
    "h_pred = np.exp(-(params_g[0])*t.copy()) * one\n",
    "sigma = x_step_vec\n",
    "\n",
    "g = lambda t: (1 - T1 / T) * h + T1 * sigma\n",
    "g_pred = lambda t: -(1 + params_g[1]) * h_pred - (params_g[1] + 1) /params_g[0] * sigma\n",
    "\n",
    "plt.plot(t, g(t), 'b')\n",
    "plt.plot(t, g_pred(t), 'r')"
   ]
  },
  {
   "cell_type": "markdown",
   "id": "cdd913d5",
   "metadata": {},
   "source": [
    "### 5. Оценить коэффициенты дифференциальной системы, пользуясь методом наименьших квадратов (МНК), из сравнения реакции системы на гармоническое воздействие. Графически сравнить истинную ЧХ с ее параметрической оценкой."
   ]
  },
  {
   "cell_type": "code",
   "execution_count": 50,
   "id": "8bc1757b",
   "metadata": {},
   "outputs": [
    {
     "data": {
      "text/plain": [
       "[<matplotlib.lines.Line2D at 0x1fcb6c328b0>]"
      ]
     },
     "execution_count": 50,
     "metadata": {},
     "output_type": "execute_result"
    },
    {
     "data": {
      "image/png": "[encoded data removed]",
      "text/plain": [
       "<Figure size 432x288 with 1 Axes>"
      ]
     },
     "metadata": {
      "needs_background": "light"
     },
     "output_type": "display_data"
    }
   ],
   "source": [
    "dz = np.empty(len(t)-1)\n",
    "for i in range(len(dz)):\n",
    "    dz[i] = (z_sin[i+1] - z_sin[i]) / (t[i+1] - t[i])\n",
    "dz = np.append(dz, dz[len(dz) - 1])\n",
    "\n",
    "plt.plot(t, dz)"
   ]
  },
  {
   "cell_type": "code",
   "execution_count": 51,
   "id": "d6284b62",
   "metadata": {},
   "outputs": [
    {
     "name": "stdout",
     "output_type": "stream",
     "text": [
      "23.66165694480775  T\n",
      "-7.713442872970706  T1\n"
     ]
    }
   ],
   "source": [
    "params_H = mnk(x_sin_vec, z_sin, dz)\n",
    "params_H = params_for_H(params_H)\n",
    "\n",
    "print(params_H[0], ' T')\n",
    "print(params_H[1], ' T1')"
   ]
  },
  {
   "cell_type": "code",
   "execution_count": 52,
   "id": "8ccc6917",
   "metadata": {},
   "outputs": [
    {
     "name": "stderr",
     "output_type": "stream",
     "text": [
      "C:\\Users\\Sonya\\anaconda3\\lib\\site-packages\\matplotlib\\cbook\\__init__.py:1333: ComplexWarning: Casting complex values to real discards the imaginary part\n",
      "  return np.asarray(x, float)\n",
      "C:\\Users\\Sonya\\anaconda3\\lib\\site-packages\\matplotlib\\cbook\\__init__.py:1333: ComplexWarning: Casting complex values to real discards the imaginary part\n",
      "  return np.asarray(x, float)\n"
     ]
    },
    {
     "data": {
      "text/plain": [
       "[<matplotlib.lines.Line2D at 0x1fcb6b7c490>]"
      ]
     },
     "execution_count": 52,
     "metadata": {},
     "output_type": "execute_result"
    },
    {
     "data": {
      "image/png": "[encoded data removed]",
      "text/plain": [
       "<Figure size 432x288 with 1 Axes>"
      ]
     },
     "metadata": {
      "needs_background": "light"
     },
     "output_type": "display_data"
    }
   ],
   "source": [
    "lbd = np.linspace(-np.pi, np.pi, len(t))\n",
    "H = lambda x: (1 + 1j * x * T1) / (1 + 1j * x * T)\n",
    "H_pred = lambda x: (1 - 1j * x * params_H[1]) / (1 + 1j * x * params_H[0])\n",
    "\n",
    "plt.plot(lbd, H_pred(lbd), 'g')\n",
    "plt.plot(lbd, H(lbd), 'r')"
   ]
  },
  {
   "cell_type": "code",
   "execution_count": null,
   "id": "790f774b",
   "metadata": {},
   "outputs": [],
   "source": []
  }
 ],
 "metadata": {
  "kernelspec": {
   "display_name": "Python 3 (ipykernel)",
   "language": "python",
   "name": "python3"
  },
  "language_info": {
   "codemirror_mode": {
    "name": "ipython",
    "version": 3
   },
   "file_extension": ".py",
   "mimetype": "text/x-python",
   "name": "python",
   "nbconvert_exporter": "python",
   "pygments_lexer": "ipython3",
   "version": "3.9.7"
  }
 },
 "nbformat": 4,
 "nbformat_minor": 5
}
